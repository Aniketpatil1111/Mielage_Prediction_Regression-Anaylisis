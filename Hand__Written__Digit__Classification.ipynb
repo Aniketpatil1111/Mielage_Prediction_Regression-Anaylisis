{
  "nbformat": 4,
  "nbformat_minor": 0,
  "metadata": {
    "colab": {
      "provenance": [],
      "authorship_tag": "ABX9TyOyFXDFJydNmyua5NwAjOLv",
      "include_colab_link": true
    },
    "kernelspec": {
      "name": "python3",
      "display_name": "Python 3"
    },
    "language_info": {
      "name": "python"
    }
  },
  "cells": [
    {
      "cell_type": "markdown",
      "metadata": {
        "id": "view-in-github",
        "colab_type": "text"
      },
      "source": [
        "<a href=\"https://colab.research.google.com/github/Aniketpatil1111/Mielage_Prediction_Regression-Anaylisis/blob/main/Hand__Written__Digit__Classification.ipynb\" target=\"_parent\"><img src=\"https://colab.research.google.com/assets/colab-badge.svg\" alt=\"Open In Colab\"/></a>"
      ]
    },
    {
      "cell_type": "markdown",
      "source": [
        "# **Hand Written Digit Prediction - Classification Analysis**"
      ],
      "metadata": {
        "id": "hFz7HctLx9S6"
      }
    },
    {
      "cell_type": "markdown",
      "source": [
        "Objective:\n",
        "\n",
        "The digits dataset consists of 8x8 pixel images pf digits.The images attribute of the dataset stores 8x8 arrays of grayscale values for each image.we will use these arrays to visualize the first 4 images.The target attritube of the dataset stores the digit each image represents\n",
        "\n",
        "Data Source:\n",
        "\n",
        "**from** sklearn.datasets"
      ],
      "metadata": {
        "id": "PnnNHw_vyvqF"
      }
    },
    {
      "cell_type": "markdown",
      "source": [
        "# **Import Library**"
      ],
      "metadata": {
        "id": "rqKaeHBV0SeH"
      }
    },
    {
      "cell_type": "code",
      "source": [
        "import pandas as pd\n",
        "import numpy as np\n",
        "import matplotlib.pyplot as plt"
      ],
      "metadata": {
        "id": "uryEUQTmylO5"
      },
      "execution_count": 1,
      "outputs": []
    },
    {
      "cell_type": "markdown",
      "source": [
        "# **Import Data**"
      ],
      "metadata": {
        "id": "lARseRKM0fYM"
      }
    },
    {
      "cell_type": "code",
      "source": [
        "from sklearn.datasets import load_digits"
      ],
      "metadata": {
        "id": "PVxQtC_70mEx"
      },
      "execution_count": 2,
      "outputs": []
    },
    {
      "cell_type": "markdown",
      "source": [
        "# **Describe Data**"
      ],
      "metadata": {
        "id": "uAhwTQgO0qp8"
      }
    },
    {
      "cell_type": "code",
      "source": [
        "df = load_digits()"
      ],
      "metadata": {
        "id": "2-Np8AZu0u3U"
      },
      "execution_count": 3,
      "outputs": []
    },
    {
      "cell_type": "markdown",
      "source": [
        "# **Data Visualization**"
      ],
      "metadata": {
        "id": "g4T96D2m00EZ"
      }
    },
    {
      "cell_type": "code",
      "source": [
        "_, axes = plt.subplots(nrows = 1, ncols = 5, figsize = (9, 2))\n",
        "for ax, image, label in zip(axes, df.images, df.target):\n",
        "    ax.set_axis_off()\n",
        "    ax.imshow(image, cmap=plt.cm.gray_r, interpolation = 'nearest')\n",
        "    ax.set_title('Training: %i' % label)"
      ],
      "metadata": {
        "colab": {
          "base_uri": "https://localhost:8080/",
          "height": 179
        },
        "id": "aiV6kJwp0u0M",
        "outputId": "ea38c796-b510-4b67-fb81-76dc6d8d2354"
      },
      "execution_count": 9,
      "outputs": [
        {
          "output_type": "display_data",
          "data": {
            "text/plain": [
              "<Figure size 900x200 with 5 Axes>"
            ],
            "image/png": "[encoded data removed]"
          },
          "metadata": {}
        }
      ]
    },
    {
      "cell_type": "markdown",
      "source": [
        "# **Data Preprocessing**"
      ],
      "metadata": {
        "id": "nRLrtv5g1VmY"
      }
    },
    {
      "cell_type": "code",
      "source": [
        "df.images.shape"
      ],
      "metadata": {
        "colab": {
          "base_uri": "https://localhost:8080/"
        },
        "id": "hXcKdLXy2Jyg",
        "outputId": "bd862777-8434-406a-9ed7-30e41f29393d"
      },
      "execution_count": 11,
      "outputs": [
        {
          "output_type": "execute_result",
          "data": {
            "text/plain": [
              "(1797, 8, 8)"
            ]
          },
          "metadata": {},
          "execution_count": 11
        }
      ]
    },
    {
      "cell_type": "code",
      "source": [
        "df.images[0]"
      ],
      "metadata": {
        "colab": {
          "base_uri": "https://localhost:8080/"
        },
        "id": "9NA1P3D90usc",
        "outputId": "53f4793d-4973-496e-f4ab-9d3157d61fe7"
      },
      "execution_count": 12,
      "outputs": [
        {
          "output_type": "execute_result",
          "data": {
            "text/plain": [
              "array([[ 0.,  0.,  5., 13.,  9.,  1.,  0.,  0.],\n",
              "       [ 0.,  0., 13., 15., 10., 15.,  5.,  0.],\n",
              "       [ 0.,  3., 15.,  2.,  0., 11.,  8.,  0.],\n",
              "       [ 0.,  4., 12.,  0.,  0.,  8.,  8.,  0.],\n",
              "       [ 0.,  5.,  8.,  0.,  0.,  9.,  8.,  0.],\n",
              "       [ 0.,  4., 11.,  0.,  1., 12.,  7.,  0.],\n",
              "       [ 0.,  2., 14.,  5., 10., 12.,  0.,  0.],\n",
              "       [ 0.,  0.,  6., 13., 10.,  0.,  0.,  0.]])"
            ]
          },
          "metadata": {},
          "execution_count": 12
        }
      ]
    },
    {
      "cell_type": "code",
      "source": [
        "df.images[0].shape"
      ],
      "metadata": {
        "colab": {
          "base_uri": "https://localhost:8080/"
        },
        "id": "JEtnMNSy0ug8",
        "outputId": "0248904d-e5cd-4106-ca56-3fbe041cbee5"
      },
      "execution_count": 13,
      "outputs": [
        {
          "output_type": "execute_result",
          "data": {
            "text/plain": [
              "(8, 8)"
            ]
          },
          "metadata": {},
          "execution_count": 13
        }
      ]
    },
    {
      "cell_type": "code",
      "source": [
        "n_samples = len(df.images)\n",
        "data = df.images.reshape((n_samples, -1))"
      ],
      "metadata": {
        "id": "GqzV--mD4K1y"
      },
      "execution_count": 14,
      "outputs": []
    },
    {
      "cell_type": "code",
      "source": [
        "data[0]"
      ],
      "metadata": {
        "colab": {
          "base_uri": "https://localhost:8080/"
        },
        "id": "tQQp9oGk4LdC",
        "outputId": "983652e8-4282-4086-f6c8-3c691df35045"
      },
      "execution_count": 15,
      "outputs": [
        {
          "output_type": "execute_result",
          "data": {
            "text/plain": [
              "array([ 0.,  0.,  5., 13.,  9.,  1.,  0.,  0.,  0.,  0., 13., 15., 10.,\n",
              "       15.,  5.,  0.,  0.,  3., 15.,  2.,  0., 11.,  8.,  0.,  0.,  4.,\n",
              "       12.,  0.,  0.,  8.,  8.,  0.,  0.,  5.,  8.,  0.,  0.,  9.,  8.,\n",
              "        0.,  0.,  4., 11.,  0.,  1., 12.,  7.,  0.,  0.,  2., 14.,  5.,\n",
              "       10., 12.,  0.,  0.,  0.,  0.,  6., 13., 10.,  0.,  0.,  0.])"
            ]
          },
          "metadata": {},
          "execution_count": 15
        }
      ]
    },
    {
      "cell_type": "code",
      "source": [
        "data[0].shape"
      ],
      "metadata": {
        "colab": {
          "base_uri": "https://localhost:8080/"
        },
        "id": "irF39GDM4LYC",
        "outputId": "d1c51430-b884-4484-b533-91a904a8291b"
      },
      "execution_count": 16,
      "outputs": [
        {
          "output_type": "execute_result",
          "data": {
            "text/plain": [
              "(64,)"
            ]
          },
          "metadata": {},
          "execution_count": 16
        }
      ]
    },
    {
      "cell_type": "code",
      "source": [
        "data.shape"
      ],
      "metadata": {
        "colab": {
          "base_uri": "https://localhost:8080/"
        },
        "id": "lHXDfd3c4LVN",
        "outputId": "dcaa8245-2ed0-4b70-f151-8a9098829fae"
      },
      "execution_count": 17,
      "outputs": [
        {
          "output_type": "execute_result",
          "data": {
            "text/plain": [
              "(1797, 64)"
            ]
          },
          "metadata": {},
          "execution_count": 17
        }
      ]
    },
    {
      "cell_type": "markdown",
      "source": [
        "# **Scaling Data**"
      ],
      "metadata": {
        "id": "XQ5wzJCa4gWV"
      }
    },
    {
      "cell_type": "code",
      "source": [
        "data.min()"
      ],
      "metadata": {
        "colab": {
          "base_uri": "https://localhost:8080/"
        },
        "id": "oM_6Of0I4LSg",
        "outputId": "576f1240-3f11-4276-ea07-22e6f9b9b210"
      },
      "execution_count": 18,
      "outputs": [
        {
          "output_type": "execute_result",
          "data": {
            "text/plain": [
              "0.0"
            ]
          },
          "metadata": {},
          "execution_count": 18
        }
      ]
    },
    {
      "cell_type": "code",
      "source": [
        "data.max()"
      ],
      "metadata": {
        "colab": {
          "base_uri": "https://localhost:8080/"
        },
        "id": "0BEs046e4LPO",
        "outputId": "af296070-314f-4281-80a5-0a37c8733bc3"
      },
      "execution_count": 19,
      "outputs": [
        {
          "output_type": "execute_result",
          "data": {
            "text/plain": [
              "16.0"
            ]
          },
          "metadata": {},
          "execution_count": 19
        }
      ]
    },
    {
      "cell_type": "code",
      "source": [
        "data = data/16"
      ],
      "metadata": {
        "id": "FncWanPY41mm"
      },
      "execution_count": 20,
      "outputs": []
    },
    {
      "cell_type": "code",
      "source": [
        "data.min()"
      ],
      "metadata": {
        "colab": {
          "base_uri": "https://localhost:8080/"
        },
        "id": "I64iraXp41jO",
        "outputId": "24fe06a8-5044-4df9-b72e-41ba29c00d64"
      },
      "execution_count": 21,
      "outputs": [
        {
          "output_type": "execute_result",
          "data": {
            "text/plain": [
              "0.0"
            ]
          },
          "metadata": {},
          "execution_count": 21
        }
      ]
    },
    {
      "cell_type": "code",
      "source": [
        "data.max()"
      ],
      "metadata": {
        "colab": {
          "base_uri": "https://localhost:8080/"
        },
        "id": "wGoe9hyB41f_",
        "outputId": "3b753a06-1875-40b4-ad47-7d10e6473fe1"
      },
      "execution_count": 22,
      "outputs": [
        {
          "output_type": "execute_result",
          "data": {
            "text/plain": [
              "1.0"
            ]
          },
          "metadata": {},
          "execution_count": 22
        }
      ]
    },
    {
      "cell_type": "code",
      "source": [
        "data[0]"
      ],
      "metadata": {
        "colab": {
          "base_uri": "https://localhost:8080/"
        },
        "id": "OSYKdNca41cW",
        "outputId": "99f08aa4-cb94-46e3-b9e1-459b61d91fd8"
      },
      "execution_count": 23,
      "outputs": [
        {
          "output_type": "execute_result",
          "data": {
            "text/plain": [
              "array([0.    , 0.    , 0.3125, 0.8125, 0.5625, 0.0625, 0.    , 0.    ,\n",
              "       0.    , 0.    , 0.8125, 0.9375, 0.625 , 0.9375, 0.3125, 0.    ,\n",
              "       0.    , 0.1875, 0.9375, 0.125 , 0.    , 0.6875, 0.5   , 0.    ,\n",
              "       0.    , 0.25  , 0.75  , 0.    , 0.    , 0.5   , 0.5   , 0.    ,\n",
              "       0.    , 0.3125, 0.5   , 0.    , 0.    , 0.5625, 0.5   , 0.    ,\n",
              "       0.    , 0.25  , 0.6875, 0.    , 0.0625, 0.75  , 0.4375, 0.    ,\n",
              "       0.    , 0.125 , 0.875 , 0.3125, 0.625 , 0.75  , 0.    , 0.    ,\n",
              "       0.    , 0.    , 0.375 , 0.8125, 0.625 , 0.    , 0.    , 0.    ])"
            ]
          },
          "metadata": {},
          "execution_count": 23
        }
      ]
    },
    {
      "cell_type": "markdown",
      "source": [
        "# **Train test split Data**"
      ],
      "metadata": {
        "id": "DKt9r4kO5GMM"
      }
    },
    {
      "cell_type": "code",
      "source": [
        "from sklearn.model_selection import train_test_split\n"
      ],
      "metadata": {
        "id": "_eKo1SRQ41Y_"
      },
      "execution_count": 24,
      "outputs": []
    },
    {
      "cell_type": "code",
      "source": [
        "xtrain, xtest, ytrain, ytest = train_test_split(data, df.target, test_size = 0.4)"
      ],
      "metadata": {
        "id": "SQrIWrjI41Vh"
      },
      "execution_count": 27,
      "outputs": []
    },
    {
      "cell_type": "code",
      "source": [
        "xtrain.shape, xtest.shape, ytrain.shape, ytest.shape"
      ],
      "metadata": {
        "colab": {
          "base_uri": "https://localhost:8080/"
        },
        "id": "TLGbRlIr41SM",
        "outputId": "3947569e-224a-43c6-95ca-d9c64c5a172d"
      },
      "execution_count": 28,
      "outputs": [
        {
          "output_type": "execute_result",
          "data": {
            "text/plain": [
              "((1078, 64), (719, 64), (1078,), (719,))"
            ]
          },
          "metadata": {},
          "execution_count": 28
        }
      ]
    },
    {
      "cell_type": "markdown",
      "source": [
        "# **Modeling**\n",
        "\n",
        "Random Forest Model"
      ],
      "metadata": {
        "id": "LeMTNV275pGs"
      }
    },
    {
      "cell_type": "code",
      "source": [
        "from sklearn.ensemble import RandomForestClassifier\n"
      ],
      "metadata": {
        "id": "KjsTtOt041Oz"
      },
      "execution_count": 31,
      "outputs": []
    },
    {
      "cell_type": "code",
      "source": [
        "rf = RandomForestClassifier()"
      ],
      "metadata": {
        "id": "DyAOjiJJ6GQW"
      },
      "execution_count": 32,
      "outputs": []
    },
    {
      "cell_type": "markdown",
      "source": [
        "Train or Fit Model"
      ],
      "metadata": {
        "id": "moRBkZt35_ch"
      }
    },
    {
      "cell_type": "code",
      "source": [
        "rf.fit(xtrain, ytrain)"
      ],
      "metadata": {
        "colab": {
          "base_uri": "https://localhost:8080/",
          "height": 74
        },
        "id": "4egXW_9s41Le",
        "outputId": "98387284-2e37-40a1-88df-71ccc044128d"
      },
      "execution_count": 33,
      "outputs": [
        {
          "output_type": "execute_result",
          "data": {
            "text/plain": [
              "RandomForestClassifier()"
            ],
            "text/html": [
              "<style>#sk-container-id-1 {color: black;background-color: white;}#sk-container-id-1 pre{padding: 0;}#sk-container-id-1 div.sk-toggleable {background-color: white;}#sk-container-id-1 label.sk-toggleable__label {cursor: pointer;display: block;width: 100%;margin-bottom: 0;padding: 0.3em;box-sizing: border-box;text-align: center;}#sk-container-id-1 label.sk-toggleable__label-arrow:before {content: \"▸\";float: left;margin-right: 0.25em;color: #696969;}#sk-container-id-1 label.sk-toggleable__label-arrow:hover:before {color: black;}#sk-container-id-1 div.sk-estimator:hover label.sk-toggleable__label-arrow:before {color: black;}#sk-container-id-1 div.sk-toggleable__content {max-height: 0;max-width: 0;overflow: hidden;text-align: left;background-color: #f0f8ff;}#sk-container-id-1 div.sk-toggleable__content pre {margin: 0.2em;color: black;border-radius: 0.25em;background-color: #f0f8ff;}#sk-container-id-1 input.sk-toggleable__control:checked~div.sk-toggleable__content {max-height: 200px;max-width: 100%;overflow: auto;}#sk-container-id-1 input.sk-toggleable__control:checked~label.sk-toggleable__label-arrow:before {content: \"▾\";}#sk-container-id-1 div.sk-estimator input.sk-toggleable__control:checked~label.sk-toggleable__label {background-color: #d4ebff;}#sk-container-id-1 div.sk-label input.sk-toggleable__control:checked~label.sk-toggleable__label {background-color: #d4ebff;}#sk-container-id-1 input.sk-hidden--visually {border: 0;clip: rect(1px 1px 1px 1px);clip: rect(1px, 1px, 1px, 1px);height: 1px;margin: -1px;overflow: hidden;padding: 0;position: absolute;width: 1px;}#sk-container-id-1 div.sk-estimator {font-family: monospace;background-color: #f0f8ff;border: 1px dotted black;border-radius: 0.25em;box-sizing: border-box;margin-bottom: 0.5em;}#sk-container-id-1 div.sk-estimator:hover {background-color: #d4ebff;}#sk-container-id-1 div.sk-parallel-item::after {content: \"\";width: 100%;border-bottom: 1px solid gray;flex-grow: 1;}#sk-container-id-1 div.sk-label:hover label.sk-toggleable__label {background-color: #d4ebff;}#sk-container-id-1 div.sk-serial::before {content: \"\";position: absolute;border-left: 1px solid gray;box-sizing: border-box;top: 0;bottom: 0;left: 50%;z-index: 0;}#sk-container-id-1 div.sk-serial {display: flex;flex-direction: column;align-items: center;background-color: white;padding-right: 0.2em;padding-left: 0.2em;position: relative;}#sk-container-id-1 div.sk-item {position: relative;z-index: 1;}#sk-container-id-1 div.sk-parallel {display: flex;align-items: stretch;justify-content: center;background-color: white;position: relative;}#sk-container-id-1 div.sk-item::before, #sk-container-id-1 div.sk-parallel-item::before {content: \"\";position: absolute;border-left: 1px solid gray;box-sizing: border-box;top: 0;bottom: 0;left: 50%;z-index: -1;}#sk-container-id-1 div.sk-parallel-item {display: flex;flex-direction: column;z-index: 1;position: relative;background-color: white;}#sk-container-id-1 div.sk-parallel-item:first-child::after {align-self: flex-end;width: 50%;}#sk-container-id-1 div.sk-parallel-item:last-child::after {align-self: flex-start;width: 50%;}#sk-container-id-1 div.sk-parallel-item:only-child::after {width: 0;}#sk-container-id-1 div.sk-dashed-wrapped {border: 1px dashed gray;margin: 0 0.4em 0.5em 0.4em;box-sizing: border-box;padding-bottom: 0.4em;background-color: white;}#sk-container-id-1 div.sk-label label {font-family: monospace;font-weight: bold;display: inline-block;line-height: 1.2em;}#sk-container-id-1 div.sk-label-container {text-align: center;}#sk-container-id-1 div.sk-container {/* jupyter's `normalize.less` sets `[hidden] { display: none; }` but bootstrap.min.css set `[hidden] { display: none !important; }` so we also need the `!important` here to be able to override the default hidden behavior on the sphinx rendered scikit-learn.org. See: https://github.com/scikit-learn/scikit-learn/issues/21755 */display: inline-block !important;position: relative;}#sk-container-id-1 div.sk-text-repr-fallback {display: none;}</style><div id=\"sk-container-id-1\" class=\"sk-top-container\"><div class=\"sk-text-repr-fallback\"><pre>RandomForestClassifier()</pre><b>In a Jupyter environment, please rerun this cell to show the HTML representation or trust the notebook. <br />On GitHub, the HTML representation is unable to render, please try loading this page with nbviewer.org.</b></div><div class=\"sk-container\" hidden><div class=\"sk-item\"><div class=\"sk-estimator sk-toggleable\"><input class=\"sk-toggleable__control sk-hidden--visually\" id=\"sk-estimator-id-1\" type=\"checkbox\" checked><label for=\"sk-estimator-id-1\" class=\"sk-toggleable__label sk-toggleable__label-arrow\">RandomForestClassifier</label><div class=\"sk-toggleable__content\"><pre>RandomForestClassifier()</pre></div></div></div></div></div>"
            ]
          },
          "metadata": {},
          "execution_count": 33
        }
      ]
    },
    {
      "cell_type": "markdown",
      "source": [
        "# **Prediction**"
      ],
      "metadata": {
        "id": "kFPF86ft6UpY"
      }
    },
    {
      "cell_type": "markdown",
      "source": [
        "Predict Test Data"
      ],
      "metadata": {
        "id": "YWyyb6x367a-"
      }
    },
    {
      "cell_type": "code",
      "source": [
        "y_pred = rf.predict(xtest)"
      ],
      "metadata": {
        "id": "-pimGPJi41EU"
      },
      "execution_count": 34,
      "outputs": []
    },
    {
      "cell_type": "code",
      "source": [
        "y_pred"
      ],
      "metadata": {
        "colab": {
          "base_uri": "https://localhost:8080/"
        },
        "id": "MiibsdSz7Am3",
        "outputId": "e1342960-7bf4-4528-a5ba-e41dc2fb0ef3"
      },
      "execution_count": 35,
      "outputs": [
        {
          "output_type": "execute_result",
          "data": {
            "text/plain": [
              "array([4, 2, 3, 9, 6, 8, 0, 8, 1, 5, 9, 5, 5, 5, 0, 0, 0, 0, 6, 3, 9, 5,\n",
              "       9, 2, 4, 3, 0, 0, 3, 0, 4, 7, 3, 2, 4, 5, 1, 3, 5, 3, 0, 0, 2, 9,\n",
              "       4, 5, 3, 5, 4, 1, 1, 6, 0, 6, 5, 3, 1, 6, 8, 2, 6, 7, 2, 3, 5, 4,\n",
              "       5, 4, 1, 9, 1, 8, 0, 8, 5, 2, 4, 8, 6, 5, 7, 1, 9, 1, 4, 4, 7, 2,\n",
              "       2, 5, 4, 2, 8, 3, 1, 5, 3, 2, 6, 1, 1, 0, 1, 2, 1, 2, 0, 6, 1, 5,\n",
              "       8, 7, 6, 7, 6, 7, 5, 2, 1, 6, 3, 3, 8, 0, 9, 8, 3, 7, 7, 4, 2, 8,\n",
              "       6, 9, 0, 6, 2, 6, 7, 7, 0, 4, 8, 1, 7, 4, 9, 0, 6, 6, 9, 9, 8, 7,\n",
              "       4, 7, 8, 7, 0, 9, 0, 7, 2, 7, 0, 3, 1, 9, 8, 9, 7, 7, 8, 5, 4, 8,\n",
              "       2, 6, 6, 5, 8, 9, 6, 6, 4, 2, 7, 4, 1, 8, 3, 5, 6, 7, 0, 2, 9, 5,\n",
              "       9, 2, 2, 3, 7, 2, 5, 6, 0, 2, 4, 3, 8, 1, 6, 7, 4, 3, 0, 9, 4, 4,\n",
              "       8, 1, 9, 0, 5, 1, 7, 5, 8, 3, 4, 3, 0, 4, 2, 5, 3, 9, 2, 4, 2, 1,\n",
              "       4, 4, 7, 1, 7, 5, 2, 1, 2, 7, 4, 8, 6, 7, 9, 3, 3, 7, 7, 2, 4, 8,\n",
              "       9, 3, 4, 9, 7, 2, 7, 7, 6, 5, 9, 1, 9, 1, 2, 8, 8, 5, 1, 4, 8, 5,\n",
              "       2, 0, 1, 0, 9, 2, 0, 5, 4, 2, 1, 4, 2, 1, 4, 8, 4, 6, 5, 2, 4, 4,\n",
              "       0, 0, 5, 6, 3, 5, 7, 5, 2, 4, 5, 0, 3, 1, 2, 0, 2, 2, 1, 0, 8, 5,\n",
              "       1, 0, 7, 7, 8, 7, 1, 7, 9, 3, 2, 5, 9, 0, 1, 1, 9, 9, 0, 9, 8, 0,\n",
              "       4, 1, 9, 9, 8, 2, 4, 9, 0, 6, 9, 2, 8, 0, 0, 7, 2, 1, 6, 6, 0, 4,\n",
              "       9, 8, 0, 8, 6, 4, 0, 3, 9, 1, 0, 6, 9, 5, 4, 2, 6, 0, 9, 5, 2, 0,\n",
              "       6, 4, 6, 7, 4, 1, 5, 9, 0, 8, 0, 5, 3, 5, 5, 7, 6, 9, 8, 2, 3, 0,\n",
              "       9, 5, 6, 4, 1, 1, 0, 7, 9, 4, 6, 0, 6, 9, 4, 2, 2, 1, 6, 8, 1, 9,\n",
              "       6, 5, 1, 7, 5, 7, 9, 5, 9, 4, 3, 8, 6, 3, 2, 5, 6, 9, 6, 2, 7, 7,\n",
              "       4, 0, 2, 7, 5, 0, 5, 2, 0, 9, 4, 8, 2, 9, 2, 1, 5, 2, 0, 9, 2, 7,\n",
              "       2, 6, 9, 5, 6, 8, 9, 1, 5, 9, 9, 6, 1, 4, 2, 6, 2, 8, 5, 1, 3, 7,\n",
              "       4, 6, 6, 3, 5, 4, 9, 6, 0, 1, 0, 5, 0, 2, 4, 6, 0, 2, 7, 9, 6, 4,\n",
              "       7, 2, 4, 3, 1, 6, 1, 3, 4, 2, 7, 5, 4, 8, 4, 0, 9, 9, 1, 5, 6, 8,\n",
              "       4, 7, 3, 8, 1, 6, 8, 0, 4, 9, 7, 0, 7, 9, 2, 7, 0, 5, 6, 7, 3, 0,\n",
              "       7, 9, 1, 5, 2, 6, 6, 7, 6, 7, 9, 6, 6, 7, 4, 3, 7, 9, 5, 8, 2, 7,\n",
              "       7, 2, 0, 6, 0, 1, 3, 0, 2, 2, 2, 2, 4, 8, 6, 1, 1, 9, 8, 0, 8, 9,\n",
              "       4, 3, 7, 6, 8, 5, 8, 2, 6, 9, 8, 3, 8, 5, 9, 9, 9, 7, 7, 7, 8, 2,\n",
              "       1, 7, 2, 3, 1, 4, 8, 1, 5, 3, 9, 4, 5, 6, 8, 2, 2, 8, 9, 9, 3, 8,\n",
              "       7, 8, 1, 1, 0, 4, 4, 1, 8, 2, 2, 8, 1, 0, 2, 3, 4, 0, 5, 3, 2, 0,\n",
              "       3, 8, 5, 6, 7, 5, 4, 1, 1, 1, 8, 4, 0, 6, 7, 9, 4, 3, 0, 1, 3, 1,\n",
              "       0, 4, 3, 3, 2, 2, 9, 7, 0, 3, 4, 7, 1, 8, 6])"
            ]
          },
          "metadata": {},
          "execution_count": 35
        }
      ]
    },
    {
      "cell_type": "markdown",
      "source": [
        "# **Model Evaluation**\n",
        "\n",
        "Model Accuracy"
      ],
      "metadata": {
        "id": "9C1Qd5QL7KN5"
      }
    },
    {
      "cell_type": "code",
      "source": [
        "from sklearn.metrics import confusion_matrix, classification_report\n"
      ],
      "metadata": {
        "id": "y3wg65s77AjZ"
      },
      "execution_count": 36,
      "outputs": []
    },
    {
      "cell_type": "code",
      "source": [
        "confusion_matrix(ytest, y_pred)"
      ],
      "metadata": {
        "colab": {
          "base_uri": "https://localhost:8080/"
        },
        "id": "p79GXmjo7Af0",
        "outputId": "ba4684cc-52a8-499d-e337-fecbdadc7dd6"
      },
      "execution_count": 37,
      "outputs": [
        {
          "output_type": "execute_result",
          "data": {
            "text/plain": [
              "array([[77,  0,  0,  0,  1,  0,  0,  0,  0,  0],\n",
              "       [ 0, 71,  0,  0,  0,  0,  0,  0,  1,  0],\n",
              "       [ 0,  0, 84,  0,  0,  0,  0,  0,  0,  0],\n",
              "       [ 0,  0,  0, 54,  0,  2,  0,  2,  1,  1],\n",
              "       [ 0,  0,  0,  0, 74,  0,  0,  0,  0,  0],\n",
              "       [ 0,  0,  0,  0,  0, 65,  1,  0,  0,  1],\n",
              "       [ 0,  0,  0,  0,  0,  0, 70,  0,  0,  0],\n",
              "       [ 0,  0,  0,  0,  0,  0,  0, 71,  0,  0],\n",
              "       [ 0,  1,  0,  0,  1,  0,  0,  0, 61,  0],\n",
              "       [ 0,  0,  0,  1,  0,  2,  0,  1,  2, 74]])"
            ]
          },
          "metadata": {},
          "execution_count": 37
        }
      ]
    },
    {
      "cell_type": "code",
      "source": [
        "print(classification_report(ytest, y_pred))"
      ],
      "metadata": {
        "colab": {
          "base_uri": "https://localhost:8080/"
        },
        "id": "cQyjgjUG7aW7",
        "outputId": "698ded6f-1a65-4036-eb12-c7e165574ec1"
      },
      "execution_count": 38,
      "outputs": [
        {
          "output_type": "stream",
          "name": "stdout",
          "text": [
            "              precision    recall  f1-score   support\n",
            "\n",
            "           0       1.00      0.99      0.99        78\n",
            "           1       0.99      0.99      0.99        72\n",
            "           2       1.00      1.00      1.00        84\n",
            "           3       0.98      0.90      0.94        60\n",
            "           4       0.97      1.00      0.99        74\n",
            "           5       0.94      0.97      0.96        67\n",
            "           6       0.99      1.00      0.99        70\n",
            "           7       0.96      1.00      0.98        71\n",
            "           8       0.94      0.97      0.95        63\n",
            "           9       0.97      0.93      0.95        80\n",
            "\n",
            "    accuracy                           0.97       719\n",
            "   macro avg       0.97      0.97      0.97       719\n",
            "weighted avg       0.98      0.97      0.97       719\n",
            "\n"
          ]
        }
      ]
    },
    {
      "cell_type": "markdown",
      "source": [
        "# **Explaination**\n",
        "\n",
        "Handwritten Digit Prediction, or Digit Classification, is like training a computer to read and understand handwritten numbers, similar to how we recognize them ourselves. Imagine you have a bunch of pictures, each showing a handwritten digit from 0 to 9. The goal is to teach the computer how to look at these pictures and figure out which digit is in each one. We split our pictures into two groups: one set to teach the computer (training set) and another to test its skills (testing set). We choose a smart method, like a special problem-solving recipe, for the computer to learn the patterns and differences in the pictures. As it learns, we guide it by telling whether its guesses are right or wrong. Once it masters this skill, we give it new pictures it hasn't seen during training, and it tries its best to guess the correct digit. We check its guesses to see how well it's doing, using simple checks to see if it's getting the numbers correct. This project helps us build a computer that can recognize handwritten digits, which has practical uses like reading postal codes or helping computers understand our handwriting. It's like teaching the computer to read your handwriting."
      ],
      "metadata": {
        "id": "Q30vp5HR7irj"
      }
    }
  ]
}